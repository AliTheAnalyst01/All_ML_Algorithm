{
 "cells": [
  {
   "attachments": {},
   "cell_type": "markdown",
   "metadata": {},
   "source": [
    "# Naive bayes classifier"
   ]
  },
  {
   "attachments": {},
   "cell_type": "markdown",
   "metadata": {},
   "source": [
    "### Strength\n",
    "1. Simple and fast in calculation but yet effective in result\n",
    "2. in situation where there are noisy and missing data it perform well\n",
    "3. Works equally well of data is present for training as well as on very large training data\n",
    "4. Easy and straightforward way to obtained the estimated probablity or prediction"
   ]
  },
  {
   "attachments": {},
   "cell_type": "markdown",
   "metadata": {},
   "source": [
    "### Weakness\n",
    "1. The basic assumption of equal importance and independence often does not hold true\n",
    "2. if the target contain the large number of numeric feature than the relaibility of the outcome become limited\n",
    "3. though the predicted calss have a high reliability estimated probablity have relatively lower reliability"
   ]
  },
  {
   "attachments": {},
   "cell_type": "markdown",
   "metadata": {},
   "source": [
    "## Application and Domain\n",
    "\n",
    "1. Text calssification\n",
    "2. spam filtering \n",
    "3. Hybrid recomended system\n",
    "4. Online sentiment analysis\n",
    "5. computational biology\n",
    "6. bioinformatics \n",
    "7. medicine \n",
    "8. forensic \n",
    "9. docoment classification\n",
    "10. image processing \n",
    "11. decision support system\n",
    "12. gaming\n",
    "13. "
   ]
  },
  {
   "cell_type": "code",
   "execution_count": 1,
   "metadata": {},
   "outputs": [],
   "source": [
    "import pandas as pd\n",
    "from sklearn.model_selection import train_test_split\n",
    "from sklearn.metrics import accuracy_score\n",
    "from sklearn.naive_bayes import GaussianNB\n"
   ]
  },
  {
   "cell_type": "code",
   "execution_count": 2,
   "metadata": {},
   "outputs": [
    {
     "data": {
      "text/html": [
       "<div>\n",
       "<style scoped>\n",
       "    .dataframe tbody tr th:only-of-type {\n",
       "        vertical-align: middle;\n",
       "    }\n",
       "\n",
       "    .dataframe tbody tr th {\n",
       "        vertical-align: top;\n",
       "    }\n",
       "\n",
       "    .dataframe thead th {\n",
       "        text-align: right;\n",
       "    }\n",
       "</style>\n",
       "<table border=\"1\" class=\"dataframe\">\n",
       "  <thead>\n",
       "    <tr style=\"text-align: right;\">\n",
       "      <th></th>\n",
       "      <th>At1</th>\n",
       "      <th>At2</th>\n",
       "      <th>At3</th>\n",
       "      <th>At4</th>\n",
       "      <th>At5</th>\n",
       "      <th>At6</th>\n",
       "      <th>At7</th>\n",
       "      <th>class</th>\n",
       "    </tr>\n",
       "  </thead>\n",
       "  <tbody>\n",
       "    <tr>\n",
       "      <th>0</th>\n",
       "      <td>0.213</td>\n",
       "      <td>0.554</td>\n",
       "      <td>0.207</td>\n",
       "      <td>0.000</td>\n",
       "      <td>0.000</td>\n",
       "      <td>0.749</td>\n",
       "      <td>0.220</td>\n",
       "      <td>1</td>\n",
       "    </tr>\n",
       "    <tr>\n",
       "      <th>1</th>\n",
       "      <td>0.458</td>\n",
       "      <td>0.714</td>\n",
       "      <td>0.468</td>\n",
       "      <td>0.111</td>\n",
       "      <td>0.102</td>\n",
       "      <td>0.741</td>\n",
       "      <td>0.436</td>\n",
       "      <td>1</td>\n",
       "    </tr>\n",
       "    <tr>\n",
       "      <th>2</th>\n",
       "      <td>0.102</td>\n",
       "      <td>0.518</td>\n",
       "      <td>0.111</td>\n",
       "      <td>0.056</td>\n",
       "      <td>0.022</td>\n",
       "      <td>0.506</td>\n",
       "      <td>0.086</td>\n",
       "      <td>1</td>\n",
       "    </tr>\n",
       "    <tr>\n",
       "      <th>3</th>\n",
       "      <td>0.187</td>\n",
       "      <td>0.196</td>\n",
       "      <td>0.105</td>\n",
       "      <td>0.056</td>\n",
       "      <td>0.029</td>\n",
       "      <td>0.133</td>\n",
       "      <td>0.085</td>\n",
       "      <td>1</td>\n",
       "    </tr>\n",
       "    <tr>\n",
       "      <th>4</th>\n",
       "      <td>0.236</td>\n",
       "      <td>0.804</td>\n",
       "      <td>0.289</td>\n",
       "      <td>0.111</td>\n",
       "      <td>0.066</td>\n",
       "      <td>0.756</td>\n",
       "      <td>0.241</td>\n",
       "      <td>1</td>\n",
       "    </tr>\n",
       "    <tr>\n",
       "      <th>...</th>\n",
       "      <td>...</td>\n",
       "      <td>...</td>\n",
       "      <td>...</td>\n",
       "      <td>...</td>\n",
       "      <td>...</td>\n",
       "      <td>...</td>\n",
       "      <td>...</td>\n",
       "      <td>...</td>\n",
       "    </tr>\n",
       "    <tr>\n",
       "      <th>101</th>\n",
       "      <td>0.449</td>\n",
       "      <td>0.875</td>\n",
       "      <td>0.523</td>\n",
       "      <td>0.083</td>\n",
       "      <td>0.076</td>\n",
       "      <td>0.920</td>\n",
       "      <td>0.487</td>\n",
       "      <td>0</td>\n",
       "    </tr>\n",
       "    <tr>\n",
       "      <th>102</th>\n",
       "      <td>0.102</td>\n",
       "      <td>0.000</td>\n",
       "      <td>0.022</td>\n",
       "      <td>0.000</td>\n",
       "      <td>0.000</td>\n",
       "      <td>0.000</td>\n",
       "      <td>0.017</td>\n",
       "      <td>0</td>\n",
       "    </tr>\n",
       "    <tr>\n",
       "      <th>103</th>\n",
       "      <td>0.409</td>\n",
       "      <td>0.875</td>\n",
       "      <td>0.482</td>\n",
       "      <td>0.306</td>\n",
       "      <td>0.259</td>\n",
       "      <td>0.914</td>\n",
       "      <td>0.443</td>\n",
       "      <td>0</td>\n",
       "    </tr>\n",
       "    <tr>\n",
       "      <th>104</th>\n",
       "      <td>0.427</td>\n",
       "      <td>0.804</td>\n",
       "      <td>0.474</td>\n",
       "      <td>0.056</td>\n",
       "      <td>0.048</td>\n",
       "      <td>0.836</td>\n",
       "      <td>0.437</td>\n",
       "      <td>0</td>\n",
       "    </tr>\n",
       "    <tr>\n",
       "      <th>105</th>\n",
       "      <td>0.462</td>\n",
       "      <td>0.911</td>\n",
       "      <td>0.551</td>\n",
       "      <td>0.167</td>\n",
       "      <td>0.154</td>\n",
       "      <td>0.931</td>\n",
       "      <td>0.500</td>\n",
       "      <td>0</td>\n",
       "    </tr>\n",
       "  </tbody>\n",
       "</table>\n",
       "<p>106 rows × 8 columns</p>\n",
       "</div>"
      ],
      "text/plain": [
       "       At1    At2    At3    At4    At5    At6    At7  class\n",
       "0    0.213  0.554  0.207  0.000  0.000  0.749  0.220      1\n",
       "1    0.458  0.714  0.468  0.111  0.102  0.741  0.436      1\n",
       "2    0.102  0.518  0.111  0.056  0.022  0.506  0.086      1\n",
       "3    0.187  0.196  0.105  0.056  0.029  0.133  0.085      1\n",
       "4    0.236  0.804  0.289  0.111  0.066  0.756  0.241      1\n",
       "..     ...    ...    ...    ...    ...    ...    ...    ...\n",
       "101  0.449  0.875  0.523  0.083  0.076  0.920  0.487      0\n",
       "102  0.102  0.000  0.022  0.000  0.000  0.000  0.017      0\n",
       "103  0.409  0.875  0.482  0.306  0.259  0.914  0.443      0\n",
       "104  0.427  0.804  0.474  0.056  0.048  0.836  0.437      0\n",
       "105  0.462  0.911  0.551  0.167  0.154  0.931  0.500      0\n",
       "\n",
       "[106 rows x 8 columns]"
      ]
     },
     "execution_count": 2,
     "metadata": {},
     "output_type": "execute_result"
    }
   ],
   "source": [
    "data = pd.read_csv('apndcts.csv')\n",
    "data "
   ]
  },
  {
   "cell_type": "code",
   "execution_count": 3,
   "metadata": {},
   "outputs": [
    {
     "name": "stdout",
     "output_type": "stream",
     "text": [
      "<class 'pandas.core.frame.DataFrame'>\n",
      "RangeIndex: 106 entries, 0 to 105\n",
      "Data columns (total 8 columns):\n",
      " #   Column  Non-Null Count  Dtype  \n",
      "---  ------  --------------  -----  \n",
      " 0   At1     106 non-null    float64\n",
      " 1    At2    106 non-null    float64\n",
      " 2    At3    106 non-null    float64\n",
      " 3    At4    106 non-null    float64\n",
      " 4    At5    106 non-null    float64\n",
      " 5    At6    106 non-null    float64\n",
      " 6    At7    106 non-null    float64\n",
      " 7   class   106 non-null    int64  \n",
      "dtypes: float64(7), int64(1)\n",
      "memory usage: 6.8 KB\n"
     ]
    }
   ],
   "source": [
    "data.info()"
   ]
  },
  {
   "cell_type": "code",
   "execution_count": 4,
   "metadata": {},
   "outputs": [
    {
     "data": {
      "text/html": [
       "<div>\n",
       "<style scoped>\n",
       "    .dataframe tbody tr th:only-of-type {\n",
       "        vertical-align: middle;\n",
       "    }\n",
       "\n",
       "    .dataframe tbody tr th {\n",
       "        vertical-align: top;\n",
       "    }\n",
       "\n",
       "    .dataframe thead th {\n",
       "        text-align: right;\n",
       "    }\n",
       "</style>\n",
       "<table border=\"1\" class=\"dataframe\">\n",
       "  <thead>\n",
       "    <tr style=\"text-align: right;\">\n",
       "      <th></th>\n",
       "      <th>At1</th>\n",
       "      <th>At2</th>\n",
       "      <th>At3</th>\n",
       "      <th>At4</th>\n",
       "      <th>At5</th>\n",
       "      <th>At6</th>\n",
       "      <th>At7</th>\n",
       "      <th>class</th>\n",
       "    </tr>\n",
       "  </thead>\n",
       "  <tbody>\n",
       "    <tr>\n",
       "      <th>count</th>\n",
       "      <td>106.000000</td>\n",
       "      <td>106.000000</td>\n",
       "      <td>106.000000</td>\n",
       "      <td>106.000000</td>\n",
       "      <td>106.000000</td>\n",
       "      <td>106.000000</td>\n",
       "      <td>106.000000</td>\n",
       "      <td>106.000000</td>\n",
       "    </tr>\n",
       "    <tr>\n",
       "      <th>mean</th>\n",
       "      <td>0.398491</td>\n",
       "      <td>0.682104</td>\n",
       "      <td>0.415151</td>\n",
       "      <td>0.208745</td>\n",
       "      <td>0.169151</td>\n",
       "      <td>0.676349</td>\n",
       "      <td>0.375396</td>\n",
       "      <td>0.198113</td>\n",
       "    </tr>\n",
       "    <tr>\n",
       "      <th>std</th>\n",
       "      <td>0.191452</td>\n",
       "      <td>0.207134</td>\n",
       "      <td>0.205799</td>\n",
       "      <td>0.199650</td>\n",
       "      <td>0.177329</td>\n",
       "      <td>0.218909</td>\n",
       "      <td>0.198132</td>\n",
       "      <td>0.400471</td>\n",
       "    </tr>\n",
       "    <tr>\n",
       "      <th>min</th>\n",
       "      <td>0.000000</td>\n",
       "      <td>0.000000</td>\n",
       "      <td>0.000000</td>\n",
       "      <td>0.000000</td>\n",
       "      <td>0.000000</td>\n",
       "      <td>0.000000</td>\n",
       "      <td>0.000000</td>\n",
       "      <td>0.000000</td>\n",
       "    </tr>\n",
       "    <tr>\n",
       "      <th>25%</th>\n",
       "      <td>0.244750</td>\n",
       "      <td>0.589000</td>\n",
       "      <td>0.277000</td>\n",
       "      <td>0.056000</td>\n",
       "      <td>0.049250</td>\n",
       "      <td>0.576000</td>\n",
       "      <td>0.238000</td>\n",
       "      <td>0.000000</td>\n",
       "    </tr>\n",
       "    <tr>\n",
       "      <th>50%</th>\n",
       "      <td>0.413000</td>\n",
       "      <td>0.750000</td>\n",
       "      <td>0.442500</td>\n",
       "      <td>0.146000</td>\n",
       "      <td>0.113000</td>\n",
       "      <td>0.744000</td>\n",
       "      <td>0.397500</td>\n",
       "      <td>0.000000</td>\n",
       "    </tr>\n",
       "    <tr>\n",
       "      <th>75%</th>\n",
       "      <td>0.505750</td>\n",
       "      <td>0.821000</td>\n",
       "      <td>0.545500</td>\n",
       "      <td>0.302500</td>\n",
       "      <td>0.226750</td>\n",
       "      <td>0.831250</td>\n",
       "      <td>0.486750</td>\n",
       "      <td>0.000000</td>\n",
       "    </tr>\n",
       "    <tr>\n",
       "      <th>max</th>\n",
       "      <td>1.000000</td>\n",
       "      <td>1.000000</td>\n",
       "      <td>1.000000</td>\n",
       "      <td>1.000000</td>\n",
       "      <td>1.000000</td>\n",
       "      <td>1.000000</td>\n",
       "      <td>1.000000</td>\n",
       "      <td>1.000000</td>\n",
       "    </tr>\n",
       "  </tbody>\n",
       "</table>\n",
       "</div>"
      ],
      "text/plain": [
       "              At1         At2         At3         At4         At5         At6  \\\n",
       "count  106.000000  106.000000  106.000000  106.000000  106.000000  106.000000   \n",
       "mean     0.398491    0.682104    0.415151    0.208745    0.169151    0.676349   \n",
       "std      0.191452    0.207134    0.205799    0.199650    0.177329    0.218909   \n",
       "min      0.000000    0.000000    0.000000    0.000000    0.000000    0.000000   \n",
       "25%      0.244750    0.589000    0.277000    0.056000    0.049250    0.576000   \n",
       "50%      0.413000    0.750000    0.442500    0.146000    0.113000    0.744000   \n",
       "75%      0.505750    0.821000    0.545500    0.302500    0.226750    0.831250   \n",
       "max      1.000000    1.000000    1.000000    1.000000    1.000000    1.000000   \n",
       "\n",
       "              At7       class  \n",
       "count  106.000000  106.000000  \n",
       "mean     0.375396    0.198113  \n",
       "std      0.198132    0.400471  \n",
       "min      0.000000    0.000000  \n",
       "25%      0.238000    0.000000  \n",
       "50%      0.397500    0.000000  \n",
       "75%      0.486750    0.000000  \n",
       "max      1.000000    1.000000  "
      ]
     },
     "execution_count": 4,
     "metadata": {},
     "output_type": "execute_result"
    }
   ],
   "source": [
    "data.describe()"
   ]
  },
  {
   "cell_type": "code",
   "execution_count": 5,
   "metadata": {},
   "outputs": [],
   "source": [
    "predictors = data.iloc[:,0:7] # segregating the predictor\n",
    "target = data.iloc[:,7] # segregating the target/class\n",
    "\n"
   ]
  },
  {
   "cell_type": "code",
   "execution_count": 6,
   "metadata": {},
   "outputs": [],
   "source": [
    "predictors_train,predictors_test,target_train,target_test =train_test_split(predictors,\n",
    "target,test_size=0.3,random_state=123)"
   ]
  },
  {
   "cell_type": "code",
   "execution_count": 7,
   "metadata": {},
   "outputs": [
    {
     "data": {
      "text/html": [
       "<div>\n",
       "<style scoped>\n",
       "    .dataframe tbody tr th:only-of-type {\n",
       "        vertical-align: middle;\n",
       "    }\n",
       "\n",
       "    .dataframe tbody tr th {\n",
       "        vertical-align: top;\n",
       "    }\n",
       "\n",
       "    .dataframe thead th {\n",
       "        text-align: right;\n",
       "    }\n",
       "</style>\n",
       "<table border=\"1\" class=\"dataframe\">\n",
       "  <thead>\n",
       "    <tr style=\"text-align: right;\">\n",
       "      <th></th>\n",
       "      <th>At1</th>\n",
       "      <th>At2</th>\n",
       "      <th>At3</th>\n",
       "      <th>At4</th>\n",
       "      <th>At5</th>\n",
       "      <th>At6</th>\n",
       "      <th>At7</th>\n",
       "    </tr>\n",
       "  </thead>\n",
       "  <tbody>\n",
       "    <tr>\n",
       "      <th>21</th>\n",
       "      <td>0.391</td>\n",
       "      <td>0.893</td>\n",
       "      <td>0.471</td>\n",
       "      <td>0.306</td>\n",
       "      <td>0.251</td>\n",
       "      <td>0.922</td>\n",
       "      <td>0.428</td>\n",
       "    </tr>\n",
       "    <tr>\n",
       "      <th>77</th>\n",
       "      <td>0.622</td>\n",
       "      <td>0.750</td>\n",
       "      <td>0.635</td>\n",
       "      <td>0.264</td>\n",
       "      <td>0.306</td>\n",
       "      <td>0.787</td>\n",
       "      <td>0.601</td>\n",
       "    </tr>\n",
       "    <tr>\n",
       "      <th>35</th>\n",
       "      <td>0.271</td>\n",
       "      <td>0.857</td>\n",
       "      <td>0.338</td>\n",
       "      <td>0.292</td>\n",
       "      <td>0.189</td>\n",
       "      <td>0.778</td>\n",
       "      <td>0.278</td>\n",
       "    </tr>\n",
       "    <tr>\n",
       "      <th>71</th>\n",
       "      <td>0.427</td>\n",
       "      <td>0.589</td>\n",
       "      <td>0.393</td>\n",
       "      <td>0.181</td>\n",
       "      <td>0.158</td>\n",
       "      <td>0.754</td>\n",
       "      <td>0.412</td>\n",
       "    </tr>\n",
       "    <tr>\n",
       "      <th>65</th>\n",
       "      <td>0.511</td>\n",
       "      <td>0.786</td>\n",
       "      <td>0.547</td>\n",
       "      <td>0.139</td>\n",
       "      <td>0.138</td>\n",
       "      <td>0.741</td>\n",
       "      <td>0.483</td>\n",
       "    </tr>\n",
       "    <tr>\n",
       "      <th>...</th>\n",
       "      <td>...</td>\n",
       "      <td>...</td>\n",
       "      <td>...</td>\n",
       "      <td>...</td>\n",
       "      <td>...</td>\n",
       "      <td>...</td>\n",
       "      <td>...</td>\n",
       "    </tr>\n",
       "    <tr>\n",
       "      <th>17</th>\n",
       "      <td>0.378</td>\n",
       "      <td>0.732</td>\n",
       "      <td>0.402</td>\n",
       "      <td>0.278</td>\n",
       "      <td>0.223</td>\n",
       "      <td>0.687</td>\n",
       "      <td>0.350</td>\n",
       "    </tr>\n",
       "    <tr>\n",
       "      <th>102</th>\n",
       "      <td>0.102</td>\n",
       "      <td>0.000</td>\n",
       "      <td>0.022</td>\n",
       "      <td>0.000</td>\n",
       "      <td>0.000</td>\n",
       "      <td>0.000</td>\n",
       "      <td>0.017</td>\n",
       "    </tr>\n",
       "    <tr>\n",
       "      <th>98</th>\n",
       "      <td>0.400</td>\n",
       "      <td>0.589</td>\n",
       "      <td>0.371</td>\n",
       "      <td>0.514</td>\n",
       "      <td>0.429</td>\n",
       "      <td>0.716</td>\n",
       "      <td>0.377</td>\n",
       "    </tr>\n",
       "    <tr>\n",
       "      <th>92</th>\n",
       "      <td>0.471</td>\n",
       "      <td>0.679</td>\n",
       "      <td>0.466</td>\n",
       "      <td>0.208</td>\n",
       "      <td>0.196</td>\n",
       "      <td>0.556</td>\n",
       "      <td>0.388</td>\n",
       "    </tr>\n",
       "    <tr>\n",
       "      <th>66</th>\n",
       "      <td>0.396</td>\n",
       "      <td>0.911</td>\n",
       "      <td>0.482</td>\n",
       "      <td>0.111</td>\n",
       "      <td>0.092</td>\n",
       "      <td>0.754</td>\n",
       "      <td>0.384</td>\n",
       "    </tr>\n",
       "  </tbody>\n",
       "</table>\n",
       "<p>74 rows × 7 columns</p>\n",
       "</div>"
      ],
      "text/plain": [
       "       At1    At2    At3    At4    At5    At6    At7\n",
       "21   0.391  0.893  0.471  0.306  0.251  0.922  0.428\n",
       "77   0.622  0.750  0.635  0.264  0.306  0.787  0.601\n",
       "35   0.271  0.857  0.338  0.292  0.189  0.778  0.278\n",
       "71   0.427  0.589  0.393  0.181  0.158  0.754  0.412\n",
       "65   0.511  0.786  0.547  0.139  0.138  0.741  0.483\n",
       "..     ...    ...    ...    ...    ...    ...    ...\n",
       "17   0.378  0.732  0.402  0.278  0.223  0.687  0.350\n",
       "102  0.102  0.000  0.022  0.000  0.000  0.000  0.017\n",
       "98   0.400  0.589  0.371  0.514  0.429  0.716  0.377\n",
       "92   0.471  0.679  0.466  0.208  0.196  0.556  0.388\n",
       "66   0.396  0.911  0.482  0.111  0.092  0.754  0.384\n",
       "\n",
       "[74 rows x 7 columns]"
      ]
     },
     "execution_count": 7,
     "metadata": {},
     "output_type": "execute_result"
    }
   ],
   "source": [
    "predictors_train"
   ]
  },
  {
   "cell_type": "code",
   "execution_count": 9,
   "metadata": {},
   "outputs": [
    {
     "data": {
      "text/plain": [
       "(32, 7)"
      ]
     },
     "execution_count": 9,
     "metadata": {},
     "output_type": "execute_result"
    }
   ],
   "source": [
    "predictors_test\n",
    "predictors_test.shape\n"
   ]
  },
  {
   "cell_type": "code",
   "execution_count": 10,
   "metadata": {},
   "outputs": [
    {
     "data": {
      "text/plain": [
       "21     0\n",
       "77     0\n",
       "35     0\n",
       "71     0\n",
       "65     0\n",
       "      ..\n",
       "17     1\n",
       "102    0\n",
       "98     0\n",
       "92     0\n",
       "66     0\n",
       "Name: class, Length: 74, dtype: int64"
      ]
     },
     "execution_count": 10,
     "metadata": {},
     "output_type": "execute_result"
    }
   ],
   "source": [
    "target_train"
   ]
  },
  {
   "cell_type": "code",
   "execution_count": 11,
   "metadata": {},
   "outputs": [],
   "source": [
    "gnb = GaussianNB()\n"
   ]
  },
  {
   "cell_type": "code",
   "execution_count": 12,
   "metadata": {},
   "outputs": [],
   "source": [
    "# first train model / classifier with input dataset(training data part)\n",
    "model = gnb.fit(predictors_train,target_train)"
   ]
  },
  {
   "cell_type": "code",
   "execution_count": 13,
   "metadata": {},
   "outputs": [
    {
     "data": {
      "text/plain": [
       "GaussianNB()"
      ]
     },
     "execution_count": 13,
     "metadata": {},
     "output_type": "execute_result"
    }
   ],
   "source": [
    "model"
   ]
  },
  {
   "cell_type": "code",
   "execution_count": 14,
   "metadata": {},
   "outputs": [],
   "source": [
    "# make the prediction using the trained model\n",
    "prediction = model.predict(predictors_test)"
   ]
  },
  {
   "cell_type": "code",
   "execution_count": 15,
   "metadata": {},
   "outputs": [
    {
     "data": {
      "text/plain": [
       "array([0, 0, 0, 0, 1, 0, 1, 1, 1, 0, 0, 0, 0, 0, 1, 0, 0, 0, 0, 0, 0, 0,\n",
       "       1, 0, 1, 0, 0, 0, 0, 1, 0, 0], dtype=int64)"
      ]
     },
     "execution_count": 15,
     "metadata": {},
     "output_type": "execute_result"
    }
   ],
   "source": [
    "prediction"
   ]
  },
  {
   "cell_type": "code",
   "execution_count": 16,
   "metadata": {},
   "outputs": [
    {
     "data": {
      "text/plain": [
       "0.90625"
      ]
     },
     "execution_count": 16,
     "metadata": {},
     "output_type": "execute_result"
    }
   ],
   "source": [
    "accuracy_score(target_test,prediction,normalize=True)"
   ]
  },
  {
   "cell_type": "code",
   "execution_count": null,
   "metadata": {},
   "outputs": [],
   "source": []
  }
 ],
 "metadata": {
  "kernelspec": {
   "display_name": "py34",
   "language": "python",
   "name": "python3"
  },
  "language_info": {
   "codemirror_mode": {
    "name": "ipython",
    "version": 3
   },
   "file_extension": ".py",
   "mimetype": "text/x-python",
   "name": "python",
   "nbconvert_exporter": "python",
   "pygments_lexer": "ipython3",
   "version": "3.10.4"
  },
  "orig_nbformat": 4
 },
 "nbformat": 4,
 "nbformat_minor": 2
}
