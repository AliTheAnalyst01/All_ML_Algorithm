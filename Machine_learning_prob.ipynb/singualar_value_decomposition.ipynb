{
 "cells": [
  {
   "attachments": {},
   "cell_type": "markdown",
   "metadata": {},
   "source": [
    "# singular value decomposition (svd)\n"
   ]
  },
  {
   "cell_type": "code",
   "execution_count": 1,
   "metadata": {},
   "outputs": [],
   "source": [
    "import pandas as pd\n",
    "from sklearn import datasets\n",
    "from scipy.linalg import svd\n"
   ]
  },
  {
   "cell_type": "code",
   "execution_count": 3,
   "metadata": {},
   "outputs": [
    {
     "name": "stdout",
     "output_type": "stream",
     "text": [
      "[[-0.06161685  0.12961144  0.0021386  ... -0.09343429 -0.09573864\n",
      "  -0.08085465]\n",
      " [-0.05807094  0.11101978  0.07067239 ...  0.03690405 -0.03153954\n",
      "   0.01309526]\n",
      " [-0.05676305  0.11796647  0.00434255 ...  0.03066199  0.19531473\n",
      "   0.13569909]\n",
      " ...\n",
      " [-0.0940593  -0.0498297  -0.04144001 ...  0.98181631 -0.02194514\n",
      "  -0.00894446]\n",
      " [-0.09488961 -0.05610123 -0.21297821 ... -0.02155617  0.94178018\n",
      "  -0.02971961]\n",
      " [-0.08847836 -0.0515697  -0.09575285 ... -0.0086052  -0.03021088\n",
      "   0.9736599 ]]\n"
     ]
    }
   ],
   "source": [
    "iris = datasets.load_iris()\n",
    "predictors = iris.data[:,0:4]\n",
    "u,s,vt = svd(predictors)\n",
    "print(u)"
   ]
  },
  {
   "cell_type": "code",
   "execution_count": 4,
   "metadata": {},
   "outputs": [
    {
     "name": "stdout",
     "output_type": "stream",
     "text": [
      "[95.95991387 17.76103366  3.46093093  1.88482631]\n"
     ]
    }
   ],
   "source": [
    "print(s)\n"
   ]
  },
  {
   "cell_type": "code",
   "execution_count": 5,
   "metadata": {},
   "outputs": [
    {
     "name": "stdout",
     "output_type": "stream",
     "text": [
      "[[-0.75110816 -0.38008617 -0.51300886 -0.16790754]\n",
      " [ 0.2841749   0.5467445  -0.70866455 -0.34367081]\n",
      " [ 0.50215472 -0.67524332 -0.05916621 -0.53701625]\n",
      " [ 0.32081425 -0.31725607 -0.48074507  0.75187165]]\n"
     ]
    }
   ],
   "source": [
    "print(vt)"
   ]
  },
  {
   "cell_type": "code",
   "execution_count": null,
   "metadata": {},
   "outputs": [],
   "source": []
  }
 ],
 "metadata": {
  "kernelspec": {
   "display_name": "py34",
   "language": "python",
   "name": "python3"
  },
  "language_info": {
   "codemirror_mode": {
    "name": "ipython",
    "version": 3
   },
   "file_extension": ".py",
   "mimetype": "text/x-python",
   "name": "python",
   "nbconvert_exporter": "python",
   "pygments_lexer": "ipython3",
   "version": "3.10.4"
  },
  "orig_nbformat": 4
 },
 "nbformat": 4,
 "nbformat_minor": 2
}
