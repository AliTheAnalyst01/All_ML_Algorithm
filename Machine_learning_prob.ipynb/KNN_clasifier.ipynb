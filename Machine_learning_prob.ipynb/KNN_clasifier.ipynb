{
 "cells": [
  {
   "attachments": {},
   "cell_type": "markdown",
   "metadata": {},
   "source": [
    "# K Nearest neighbors"
   ]
  },
  {
   "attachments": {},
   "cell_type": "markdown",
   "metadata": {},
   "source": [
    "### Strength of the KNN\n",
    "\n",
    "1. Extremly simple algorithm easy to understand\n",
    "2. very effective in certain situation for recomended system design\n",
    "3. very fast and almost no time required for the training phase\n"
   ]
  },
  {
   "attachments": {},
   "cell_type": "markdown",
   "metadata": {},
   "source": [
    "### Weakness of KNN\n",
    "\n",
    "1. Does not learn anything in a real sense classification done completly on the basis of training data so it has a heavy reliance on the training data if the trianing data not represent the problem domain comprehensively the algorithm fails to make an effective classification because there is no model trained in real sense\n",
    "\n",
    "2. also large amount of computational power required to load the training data for classification"
   ]
  },
  {
   "attachments": {},
   "cell_type": "markdown",
   "metadata": {},
   "source": [
    "### Aplication\n",
    "\n",
    "1. Widely adopted on recomended system\n",
    "2. searching document content similar to given document"
   ]
  },
  {
   "attachments": {},
   "cell_type": "markdown",
   "metadata": {},
   "source": [
    "### value of K\n",
    "there are many method to choos the value of k is one of them that \n",
    "\n",
    "take the value of sq root of training data points \n",
    "e.g training example is 200 than the value of k choos as k = sqrt200=14.14=14\n"
   ]
  },
  {
   "cell_type": "code",
   "execution_count": 1,
   "metadata": {},
   "outputs": [],
   "source": [
    "import pandas as pd\n",
    "from sklearn.model_selection import train_test_split\n",
    "from sklearn.metrics import accuracy_score\n",
    "from sklearn.neighbors import KNeighborsClassifier"
   ]
  },
  {
   "cell_type": "code",
   "execution_count": 2,
   "metadata": {},
   "outputs": [],
   "source": [
    "data = pd.read_csv('apndcts.csv')"
   ]
  },
  {
   "cell_type": "code",
   "execution_count": 3,
   "metadata": {},
   "outputs": [],
   "source": [
    "predictors = data.iloc[:,0:7]\n",
    "target = data.iloc[:,7]\n"
   ]
  },
  {
   "cell_type": "code",
   "execution_count": 4,
   "metadata": {},
   "outputs": [],
   "source": [
    "predictors_train,predictors_test,target_train,target_test = train_test_split(predictors,\n",
    "                                                                             target,test_size=0.3,random_state=123)"
   ]
  },
  {
   "cell_type": "code",
   "execution_count": 5,
   "metadata": {},
   "outputs": [],
   "source": [
    "nn = KNeighborsClassifier(n_neighbors=3)\n",
    "# instantiate the model with 3 neighbors"
   ]
  },
  {
   "cell_type": "code",
   "execution_count": 6,
   "metadata": {},
   "outputs": [],
   "source": [
    "# first train the model \n",
    "model=nn.fit(predictors_train,target_train)"
   ]
  },
  {
   "cell_type": "code",
   "execution_count": 7,
   "metadata": {},
   "outputs": [
    {
     "data": {
      "text/plain": [
       "0.875"
      ]
     },
     "execution_count": 7,
     "metadata": {},
     "output_type": "execute_result"
    }
   ],
   "source": [
    "# time to check the prediction accuracy\n",
    "nn.score(predictors_test,target_test)"
   ]
  },
  {
   "cell_type": "code",
   "execution_count": 12,
   "metadata": {},
   "outputs": [
    {
     "ename": "TypeError",
     "evalue": "'method' object is not subscriptable",
     "output_type": "error",
     "traceback": [
      "\u001b[1;31m---------------------------------------------------------------------------\u001b[0m",
      "\u001b[1;31mTypeError\u001b[0m                                 Traceback (most recent call last)",
      "\u001b[1;32m~\\AppData\\Local\\Temp\\ipykernel_11376\\2670495929.py\u001b[0m in \u001b[0;36m<module>\u001b[1;34m\u001b[0m\n\u001b[1;32m----> 1\u001b[1;33m \u001b[0mmodel\u001b[0m\u001b[1;33m.\u001b[0m\u001b[0mpredict\u001b[0m\u001b[1;33m[\u001b[0m\u001b[1;36m0.213\u001b[0m\u001b[1;33m,\u001b[0m    \u001b[1;36m0.554\u001b[0m\u001b[1;33m,\u001b[0m  \u001b[1;36m0.207\u001b[0m\u001b[1;33m,\u001b[0m  \u001b[1;36m0.000\u001b[0m\u001b[1;33m,\u001b[0m  \u001b[1;36m0.000\u001b[0m\u001b[1;33m,\u001b[0m  \u001b[1;36m0.749\u001b[0m\u001b[1;33m,\u001b[0m  \u001b[1;36m0.220\u001b[0m\u001b[1;33m]\u001b[0m\u001b[1;33m\u001b[0m\u001b[1;33m\u001b[0m\u001b[0m\n\u001b[0m",
      "\u001b[1;31mTypeError\u001b[0m: 'method' object is not subscriptable"
     ]
    }
   ],
   "source": [
    "model.predict[0.213,\t0.554,\t0.207,\t0.000,\t0.000,\t0.749,\t0.220]"
   ]
  },
  {
   "cell_type": "code",
   "execution_count": null,
   "metadata": {},
   "outputs": [],
   "source": []
  }
 ],
 "metadata": {
  "kernelspec": {
   "display_name": "py34",
   "language": "python",
   "name": "python3"
  },
  "language_info": {
   "codemirror_mode": {
    "name": "ipython",
    "version": 3
   },
   "file_extension": ".py",
   "mimetype": "text/x-python",
   "name": "python",
   "nbconvert_exporter": "python",
   "pygments_lexer": "ipython3",
   "version": "3.10.4"
  },
  "orig_nbformat": 4
 },
 "nbformat": 4,
 "nbformat_minor": 2
}
